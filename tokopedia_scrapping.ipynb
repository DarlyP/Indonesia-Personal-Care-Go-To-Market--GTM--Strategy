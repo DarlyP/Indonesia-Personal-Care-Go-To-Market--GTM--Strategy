{
  "cells": [
    {
      "cell_type": "markdown",
      "metadata": {},
      "source": [
        "# **Indonesia Skincare Go-To-Market (GTM) Map Strategy**\n",
        "\n",
        "---"
      ]
    },
    {
      "cell_type": "markdown",
      "metadata": {},
      "source": [
        "## **Install Library**\n",
        "\n",
        "---"
      ]
    },
    {
      "cell_type": "code",
      "execution_count": null,
      "metadata": {
        "colab": {
          "base_uri": "https://localhost:8080/"
        },
        "id": "cpLHQMnkthbN",
        "outputId": "32506084-9d78-4062-e12f-de66174eb96c"
      },
      "outputs": [],
      "source": [
        "pip install tokopaedi"
      ]
    },
    {
      "cell_type": "markdown",
      "metadata": {},
      "source": [
        "---\n",
        "\n",
        "## **Import Library**\n",
        "\n",
        "---"
      ]
    },
    {
      "cell_type": "code",
      "execution_count": null,
      "metadata": {
        "id": "zv5TRgbNtnlN"
      },
      "outputs": [],
      "source": [
        "from tokopaedi import search, SearchFilters, get_product, get_reviews\n",
        "import json\n",
        "import pandas as pd\n",
        "from pandas import json_normalize"
      ]
    },
    {
      "cell_type": "markdown",
      "metadata": {},
      "source": [
        "---\n",
        "\n",
        "## **Scarpping Data**\n",
        "\n",
        "---"
      ]
    },
    {
      "cell_type": "markdown",
      "metadata": {},
      "source": [
        "### **Keyword: Skincare**\n",
        "\n",
        "---"
      ]
    },
    {
      "cell_type": "code",
      "execution_count": null,
      "metadata": {
        "colab": {
          "base_uri": "https://localhost:8080/"
        },
        "id": "VTZHMOCptpF4",
        "outputId": "c9aef9fc-e3fb-41ee-b507-4cfcd17f42a3"
      },
      "outputs": [],
      "source": [
        "# Scrapping data\n",
        "results = search(\"skincare\", max_result=250, debug=True)\n",
        "results.enrich_details(debug=True)\n",
        "results.enrich_reviews(max_result=250, debug=True)\n",
        "\n",
        "# Check data\n",
        "with open('log.json','w') as f:\n",
        "    f.write(json.dumps(results.json(), indent=4))\n",
        "print(results.json())"
      ]
    },
    {
      "cell_type": "code",
      "execution_count": null,
      "metadata": {
        "id": "VYdfKA0GtpfI"
      },
      "outputs": [],
      "source": [
        "# Define data\n",
        "data = results.json()  \n",
        "\n",
        "# Safely define rows\n",
        "if isinstance(data, list):\n",
        "    rows = data\n",
        "elif isinstance(data, dict):\n",
        "    # Try to get a common candidate list; if none exists, use the dict itself\n",
        "    for key in (\"items\", \"products\", \"results\", \"data\"):\n",
        "        if key in data and isinstance(data[key], list):\n",
        "            rows = data[key]\n",
        "            break\n",
        "    else:\n",
        "        rows = [data]  # Make a single row\n",
        "else:\n",
        "    rows = [data]\n",
        "\n",
        "# If rows contains dicts, flatten; otherwise, wrap as a single column\n",
        "if rows and isinstance(rows[0], dict):\n",
        "    df = pd.json_normalize(rows, sep='.')\n",
        "else:\n",
        "    df = pd.DataFrame({\"value\": rows})"
      ]
    },
    {
      "cell_type": "code",
      "execution_count": null,
      "metadata": {
        "colab": {
          "base_uri": "https://localhost:8080/"
        },
        "id": "DRDFpeVdtsiZ",
        "outputId": "876eff55-31cb-4dbd-fb2a-b583c43d2d2a"
      },
      "outputs": [],
      "source": [
        "# Check data form\n",
        "df.shape"
      ]
    },
    {
      "cell_type": "markdown",
      "metadata": {
        "id": "gbbBH2gbucpF"
      },
      "source": [
        "---\n",
        "\n",
        "### **Keyword: Facial Care**\n",
        "\n",
        "---"
      ]
    },
    {
      "cell_type": "code",
      "execution_count": null,
      "metadata": {
        "id": "zfs8bh78tz7f"
      },
      "outputs": [],
      "source": [
        "# Scrapping data\n",
        "results = search(\"facial care\", max_result=250, debug=True)\n",
        "results.enrich_details(debug=True)\n",
        "results.enrich_reviews(max_result=250, debug=True)\n",
        "\n",
        "# Check data\n",
        "with open('log.json','w') as f:\n",
        "    f.write(json.dumps(results.json(), indent=4))\n",
        "print(results.json())"
      ]
    },
    {
      "cell_type": "code",
      "execution_count": null,
      "metadata": {
        "colab": {
          "background_save": true
        },
        "id": "CC-SjcP7t062"
      },
      "outputs": [],
      "source": [
        "# Define data\n",
        "data = results.json()  \n",
        "\n",
        "# Safely define rows\n",
        "if isinstance(data, list):\n",
        "    rows = data\n",
        "elif isinstance(data, dict):\n",
        "    # Try to get a common candidate list; if none exists, use the dict itself\n",
        "    for key in (\"items\", \"products\", \"results\", \"data\"):\n",
        "        if key in data and isinstance(data[key], list):\n",
        "            rows = data[key]\n",
        "            break\n",
        "    else:\n",
        "        rows = [data]  # Make a single row\n",
        "else:\n",
        "    rows = [data]\n",
        "\n",
        "#  If rows contains dicts, flatten; otherwise, wrap as a single column\n",
        "if rows and isinstance(rows[0], dict):\n",
        "    df_1 = pd.json_normalize(rows, sep='.')\n",
        "else:\n",
        "    df_1 = pd.DataFrame({\"value\": rows})"
      ]
    },
    {
      "cell_type": "code",
      "execution_count": null,
      "metadata": {
        "colab": {
          "background_save": true
        },
        "id": "wc7nUz9et17r",
        "outputId": "2a62be51-3404-462d-b709-72b4ff694c26"
      },
      "outputs": [],
      "source": [
        "# Check data form\n",
        "df_1.shape"
      ]
    },
    {
      "cell_type": "markdown",
      "metadata": {
        "id": "5eCdvBu-uiD1"
      },
      "source": [
        "---\n",
        "\n",
        "### **Keyword: Bodycare**\n",
        "\n",
        "---"
      ]
    },
    {
      "cell_type": "code",
      "execution_count": null,
      "metadata": {
        "id": "hJbjoes2uKr-"
      },
      "outputs": [],
      "source": [
        "# Scrapping data\n",
        "results = search(\"bodycare\", max_result=250, debug=True)\n",
        "results.enrich_details(debug=True)\n",
        "results.enrich_reviews(max_result=250, debug=True)\n",
        "\n",
        "# Check data\n",
        "with open('log.json','w') as f:\n",
        "    f.write(json.dumps(results.json(), indent=4))\n",
        "print(results.json())"
      ]
    },
    {
      "cell_type": "code",
      "execution_count": null,
      "metadata": {
        "id": "EE1OOV47uPgP"
      },
      "outputs": [],
      "source": [
        "# Define data\n",
        "data = results.json()  \n",
        "\n",
        "# Safely define rows\n",
        "if isinstance(data, list):\n",
        "    rows = data\n",
        "elif isinstance(data, dict):\n",
        "    # Try to get a common candidate list; if none exists, use the dict itself\n",
        "    for key in (\"items\", \"products\", \"results\", \"data\"):\n",
        "        if key in data and isinstance(data[key], list):\n",
        "            rows = data[key]\n",
        "            break\n",
        "    else:\n",
        "        rows = [data]  # Make a single row\n",
        "else:\n",
        "    rows = [data]\n",
        "\n",
        "#  If rows contains dicts, flatten; otherwise, wrap as a single column\n",
        "if rows and isinstance(rows[0], dict):\n",
        "    df_2 = pd.json_normalize(rows, sep='.')\n",
        "else:\n",
        "    df_2 = pd.DataFrame({\"value\": rows})"
      ]
    },
    {
      "cell_type": "code",
      "execution_count": null,
      "metadata": {
        "id": "rq9zJn8UuQc5"
      },
      "outputs": [],
      "source": [
        "# Check data form\n",
        "df_2.shape"
      ]
    },
    {
      "cell_type": "markdown",
      "metadata": {
        "id": "lRA-T18jumjA"
      },
      "source": [
        "---\n",
        "\n",
        "### **Keyword: Face wash**\n",
        "\n",
        "---"
      ]
    },
    {
      "cell_type": "code",
      "execution_count": null,
      "metadata": {
        "colab": {
          "background_save": true
        },
        "id": "kxEgDyI6uYmt",
        "outputId": "7d21d93c-9b19-472a-fe2a-4459343d80e9"
      },
      "outputs": [],
      "source": [
        "# Scrapping data\n",
        "results = search(\"face wash\", max_result=250, debug=True)\n",
        "results.enrich_details(debug=True)\n",
        "results.enrich_reviews(max_result=250, debug=True)\n",
        "\n",
        "# Check data\n",
        "with open('log.json','w') as f:\n",
        "    f.write(json.dumps(results.json(), indent=4))\n",
        "print(results.json())"
      ]
    },
    {
      "cell_type": "code",
      "execution_count": null,
      "metadata": {
        "colab": {
          "background_save": true
        },
        "id": "4LnvKfjLupXD"
      },
      "outputs": [],
      "source": [
        "# Define data\n",
        "data = results.json()  \n",
        "\n",
        "# Safely define rows\n",
        "if isinstance(data, list):\n",
        "    rows = data\n",
        "elif isinstance(data, dict):\n",
        "    # Try to get a common candidate list; if none exists, use the dict itself\n",
        "    for key in (\"items\", \"products\", \"results\", \"data\"):\n",
        "        if key in data and isinstance(data[key], list):\n",
        "            rows = data[key]\n",
        "            break\n",
        "    else:\n",
        "        rows = [data]  \n",
        "else:\n",
        "    rows = [data]\n",
        "\n",
        "#  If rows contains dicts, flatten; otherwise, wrap as a single column\n",
        "if rows and isinstance(rows[0], dict):\n",
        "    df_3 = pd.json_normalize(rows, sep='.')\n",
        "else:\n",
        "    df_3 = pd.DataFrame({\"value\": rows})"
      ]
    },
    {
      "cell_type": "code",
      "execution_count": null,
      "metadata": {
        "colab": {
          "background_save": true
        },
        "id": "3ylNqsaXvNDq"
      },
      "outputs": [],
      "source": [
        "# Check data form\n",
        "df_3.shape"
      ]
    },
    {
      "cell_type": "markdown",
      "metadata": {
        "id": "tD0bzlldvmQ-"
      },
      "source": [
        "---\n",
        "\n",
        "### **Keyword: Body Wash**\n",
        "\n",
        "---"
      ]
    },
    {
      "cell_type": "code",
      "execution_count": null,
      "metadata": {
        "colab": {
          "background_save": true
        },
        "id": "8PtXjQz8vl1x"
      },
      "outputs": [],
      "source": [
        "# Scrapping data\n",
        "results = search(\"body wash\", max_result=250, debug=True)\n",
        "results.enrich_details(debug=True)\n",
        "results.enrich_reviews(max_result=250, debug=True)\n",
        "\n",
        "# Check data\n",
        "with open('log.json','w') as f:\n",
        "    f.write(json.dumps(results.json(), indent=4))\n",
        "print(results.json())"
      ]
    },
    {
      "cell_type": "code",
      "execution_count": null,
      "metadata": {
        "colab": {
          "background_save": true
        },
        "id": "FMOyfdKwvpb6"
      },
      "outputs": [],
      "source": [
        "# Define data\n",
        "data = results.json()  \n",
        "\n",
        "# Safely define rows\n",
        "if isinstance(data, list):\n",
        "    rows = data\n",
        "elif isinstance(data, dict):\n",
        "    # Try to get a common candidate list; if none exists, use the dict itself\n",
        "    for key in (\"items\", \"products\", \"results\", \"data\"):\n",
        "        if key in data and isinstance(data[key], list):\n",
        "            rows = data[key]\n",
        "            break\n",
        "    else:\n",
        "        rows = [data]  \n",
        "else:\n",
        "    rows = [data]\n",
        "\n",
        "#  If rows contains dicts, flatten; otherwise, wrap as a single column\n",
        "if rows and isinstance(rows[0], dict):\n",
        "    df_4 = pd.json_normalize(rows, sep='.')\n",
        "else:\n",
        "    df_4 = pd.DataFrame({\"value\": rows})"
      ]
    },
    {
      "cell_type": "code",
      "execution_count": null,
      "metadata": {
        "colab": {
          "background_save": true
        },
        "id": "QEPuGTofvqQo"
      },
      "outputs": [],
      "source": [
        "# Check data form\n",
        "df_4.shape"
      ]
    },
    {
      "cell_type": "markdown",
      "metadata": {
        "id": "wQE3SbYdvznE"
      },
      "source": [
        "---\n",
        "\n",
        "### **Keyword: Selfcare**\n",
        "\n",
        "---"
      ]
    },
    {
      "cell_type": "code",
      "execution_count": null,
      "metadata": {
        "colab": {
          "background_save": true
        },
        "id": "oC72Ue-av0pg"
      },
      "outputs": [],
      "source": [
        "# Scrapping data\n",
        "results = search(\"selfcare\", max_result=125, debug=True)\n",
        "results.enrich_details(debug=True)\n",
        "results.enrich_reviews(max_result=125, debug=True)\n",
        "\n",
        "# Check data\n",
        "with open('log.json','w') as f:\n",
        "    f.write(json.dumps(results.json(), indent=4))\n",
        "print(results.json())"
      ]
    },
    {
      "cell_type": "code",
      "execution_count": null,
      "metadata": {
        "colab": {
          "background_save": true
        },
        "id": "Sz8jv3OPv27V"
      },
      "outputs": [],
      "source": [
        "# Define data\n",
        "data = results.json()  \n",
        "\n",
        "# Safely define rows\n",
        "if isinstance(data, list):\n",
        "    rows = data\n",
        "elif isinstance(data, dict):\n",
        "    # Try to get a common candidate list; if none exists, use the dict itself\n",
        "    for key in (\"items\", \"products\", \"results\", \"data\"):\n",
        "        if key in data and isinstance(data[key], list):\n",
        "            rows = data[key]\n",
        "            break\n",
        "    else:\n",
        "        rows = [data]  \n",
        "else:\n",
        "    rows = [data]\n",
        "\n",
        "#  If rows contains dicts, flatten; otherwise, wrap as a single column\n",
        "if rows and isinstance(rows[0], dict):\n",
        "    df_5 = pd.json_normalize(rows, sep='.')\n",
        "else:\n",
        "    df_5 = pd.DataFrame({\"value\": rows})"
      ]
    },
    {
      "cell_type": "code",
      "execution_count": null,
      "metadata": {
        "colab": {
          "background_save": true
        },
        "id": "q5E4lXLgv3ws"
      },
      "outputs": [],
      "source": [
        "# Check data form\n",
        "df_5.shape"
      ]
    },
    {
      "cell_type": "markdown",
      "metadata": {
        "id": "vX1AnVBowYoA"
      },
      "source": [
        "---\n",
        "\n",
        "### **Keyword: Facial cleanser**\n",
        "\n",
        "---"
      ]
    },
    {
      "cell_type": "code",
      "execution_count": null,
      "metadata": {
        "colab": {
          "background_save": true
        },
        "id": "Y1gr8YLlwZhI"
      },
      "outputs": [],
      "source": [
        "# Scrapping data\n",
        "results = search(\"facial cleanser\", max_result=500, debug=True)\n",
        "results.enrich_details(debug=True)\n",
        "results.enrich_reviews(max_result=500, debug=True)\n",
        "\n",
        "# Check data\n",
        "with open('log.json','w') as f:\n",
        "    f.write(json.dumps(results.json(), indent=4))\n",
        "print(results.json())"
      ]
    },
    {
      "cell_type": "code",
      "execution_count": null,
      "metadata": {
        "colab": {
          "background_save": true
        },
        "id": "sUmsZaUtwwxy"
      },
      "outputs": [],
      "source": [
        "# Define data\n",
        "data = results.json()\n",
        "\n",
        "# Safely define rows\n",
        "if isinstance(data, list):\n",
        "    rows = data\n",
        "elif isinstance(data, dict):\n",
        "    # Try to get a common candidate list; if none exists, use the dict itself\n",
        "    for key in (\"items\", \"products\", \"results\", \"data\"):\n",
        "        if key in data and isinstance(data[key], list):\n",
        "            rows = data[key]\n",
        "            break\n",
        "    else:\n",
        "        rows = [data]\n",
        "else:\n",
        "    rows = [data]\n",
        "\n",
        "# If rows contains dicts, flatten; otherwise, wrap as a single column\n",
        "if rows and isinstance(rows[0], dict):\n",
        "    df_6 = pd.json_normalize(rows, sep='.')\n",
        "else:\n",
        "    df_6 = pd.DataFrame({\"value\": rows})"
      ]
    },
    {
      "cell_type": "code",
      "execution_count": null,
      "metadata": {
        "colab": {
          "background_save": true
        },
        "id": "o_Mx6mQJwyFu"
      },
      "outputs": [],
      "source": [
        "# Check data form\n",
        "df_6.shape"
      ]
    },
    {
      "cell_type": "markdown",
      "metadata": {
        "id": "-xwPbJ1mw9b_"
      },
      "source": [
        "---\n",
        "\n",
        "### **Keyword: Toner**\n",
        "\n",
        "---"
      ]
    },
    {
      "cell_type": "code",
      "execution_count": null,
      "metadata": {
        "colab": {
          "background_save": true
        },
        "id": "JxLhMUG0w9_y"
      },
      "outputs": [],
      "source": [
        "# Scrapping data\n",
        "results = search(\"toner\", max_result=500, debug=True)\n",
        "results.enrich_details(debug=True)\n",
        "results.enrich_reviews(max_result=500, debug=True)\n",
        "\n",
        "# Check data\n",
        "with open('log.json','w') as f:\n",
        "    f.write(json.dumps(results.json(), indent=4))\n",
        "print(results.json())"
      ]
    },
    {
      "cell_type": "code",
      "execution_count": null,
      "metadata": {
        "colab": {
          "background_save": true
        },
        "id": "jopYAniJxInU"
      },
      "outputs": [],
      "source": [
        "# Define data\n",
        "data = results.json()  \n",
        "\n",
        "# Safely define rows\n",
        "if isinstance(data, list):\n",
        "    rows = data\n",
        "elif isinstance(data, dict):\n",
        "    # Try to get a common candidate list; if none exists, use the dict itself\n",
        "    for key in (\"items\", \"products\", \"results\", \"data\"):\n",
        "        if key in data and isinstance(data[key], list):\n",
        "            rows = data[key]\n",
        "            break\n",
        "    else:\n",
        "        rows = [data]  \n",
        "else:\n",
        "    rows = [data]\n",
        "\n",
        "# If rows contains dicts, flatten; otherwise, wrap as a single column\n",
        "if rows and isinstance(rows[0], dict):\n",
        "    df_7 = pd.json_normalize(rows, sep='.')\n",
        "else:\n",
        "    df_7 = pd.DataFrame({\"value\": rows})"
      ]
    },
    {
      "cell_type": "code",
      "execution_count": null,
      "metadata": {
        "colab": {
          "background_save": true
        },
        "id": "lq4GGwRVxJX0"
      },
      "outputs": [],
      "source": [
        "# Check data form\n",
        "df_7.shape"
      ]
    },
    {
      "cell_type": "markdown",
      "metadata": {
        "id": "nfaUWyqdxdsE"
      },
      "source": [
        "---\n",
        "\n",
        "### **Keyword: Essence**\n",
        "\n",
        "---"
      ]
    },
    {
      "cell_type": "code",
      "execution_count": null,
      "metadata": {
        "colab": {
          "background_save": true
        },
        "id": "xXZO86CyxeK8"
      },
      "outputs": [],
      "source": [
        "# Scrapping data\n",
        "results = search(\"essence\", max_result=500, debug=True)\n",
        "results.enrich_details(debug=True)\n",
        "results.enrich_reviews(max_result=500, debug=True)\n",
        "\n",
        "# Check data\n",
        "with open('log.json','w') as f:\n",
        "    f.write(json.dumps(results.json(), indent=4))\n",
        "print(results.json())"
      ]
    },
    {
      "cell_type": "code",
      "execution_count": null,
      "metadata": {
        "colab": {
          "background_save": true
        },
        "id": "oYzwn0Mjxlll"
      },
      "outputs": [],
      "source": [
        "# Define data\n",
        "data = results.json()  \n",
        "\n",
        "# Safely define rows\n",
        "if isinstance(data, list):\n",
        "    rows = data\n",
        "elif isinstance(data, dict):\n",
        "    # Try to get a common candidate list; if none exists, use the dict itself\n",
        "    for key in (\"items\", \"products\", \"results\", \"data\"):\n",
        "        if key in data and isinstance(data[key], list):\n",
        "            rows = data[key]\n",
        "            break\n",
        "    else:\n",
        "        rows = [data]  \n",
        "else:\n",
        "    rows = [data]\n",
        "\n",
        "# If rows contains dicts, flatten; otherwise, wrap as a single column\n",
        "if rows and isinstance(rows[0], dict):\n",
        "    df_8 = pd.json_normalize(rows, sep='.')\n",
        "else:\n",
        "    df_8 = pd.DataFrame({\"value\": rows})"
      ]
    },
    {
      "cell_type": "code",
      "execution_count": null,
      "metadata": {
        "colab": {
          "background_save": true
        },
        "id": "tKM00UzVxnXg"
      },
      "outputs": [],
      "source": [
        "# Check data form\n",
        "df_8.shape"
      ]
    },
    {
      "cell_type": "markdown",
      "metadata": {
        "id": "_LAj8OL4xu_c"
      },
      "source": [
        "---\n",
        "\n",
        "### **Keyword: Serum**\n",
        "\n",
        "---"
      ]
    },
    {
      "cell_type": "code",
      "execution_count": null,
      "metadata": {
        "colab": {
          "background_save": true
        },
        "id": "4N148H9rxvqr"
      },
      "outputs": [],
      "source": [
        "# Scrapping data\n",
        "results = search(\"serum\", max_result=500, debug=True)\n",
        "results.enrich_details(debug=True)\n",
        "results.enrich_reviews(max_result=500, debug=True)\n",
        "\n",
        "# Check data\n",
        "with open('log.json','w') as f:\n",
        "    f.write(json.dumps(results.json(), indent=4))\n",
        "print(results.json())"
      ]
    },
    {
      "cell_type": "code",
      "execution_count": null,
      "metadata": {
        "colab": {
          "background_save": true
        },
        "id": "K9JIb2ZhxyHo"
      },
      "outputs": [],
      "source": [
        "# Define data\n",
        "data = results.json()  \n",
        "\n",
        "# Safely define rows\n",
        "if isinstance(data, list):\n",
        "    rows = data\n",
        "elif isinstance(data, dict):\n",
        "    # Try to get a common candidate list; if none exists, use the dict itself\n",
        "    for key in (\"items\", \"products\", \"results\", \"data\"):\n",
        "        if key in data and isinstance(data[key], list):\n",
        "            rows = data[key]\n",
        "            break\n",
        "    else:\n",
        "        rows = [data]  \n",
        "else:\n",
        "    rows = [data]\n",
        "\n",
        "# If rows contains dicts, flatten; otherwise, wrap as a single column\n",
        "if rows and isinstance(rows[0], dict):\n",
        "    df_9 = pd.json_normalize(rows, sep='.')\n",
        "else:\n",
        "    df_9 = pd.DataFrame({\"value\": rows})"
      ]
    },
    {
      "cell_type": "code",
      "execution_count": null,
      "metadata": {
        "colab": {
          "background_save": true
        },
        "id": "MCW9NnS8xzBT"
      },
      "outputs": [],
      "source": [
        "# Check data form\n",
        "df_9.shape"
      ]
    },
    {
      "cell_type": "markdown",
      "metadata": {
        "id": "FYMAM1CVx-ay"
      },
      "source": [
        "---\n",
        "\n",
        "### **Keyword: Moisturizer**\n",
        "\n",
        "---"
      ]
    },
    {
      "cell_type": "code",
      "execution_count": null,
      "metadata": {
        "colab": {
          "background_save": true
        },
        "id": "kSlxOj1ex9_T"
      },
      "outputs": [],
      "source": [
        "# Scrapping data\n",
        "results = search(\"moisturizer\", max_result=500, debug=True)\n",
        "results.enrich_details(debug=True)\n",
        "results.enrich_reviews(max_result=500, debug=True)\n",
        "\n",
        "# Check data\n",
        "with open('log.json','w') as f:\n",
        "    f.write(json.dumps(results.json(), indent=4))\n",
        "print(results.json())"
      ]
    },
    {
      "cell_type": "code",
      "execution_count": null,
      "metadata": {
        "colab": {
          "background_save": true
        },
        "id": "poQPXSK8yAEK"
      },
      "outputs": [],
      "source": [
        "# Define data\n",
        "data = results.json()  \n",
        "\n",
        "# Safely define rows\n",
        "if isinstance(data, list):\n",
        "    rows = data\n",
        "elif isinstance(data, dict):\n",
        "    # Try to get a common candidate list; if none exists, use the dict itself\n",
        "    for key in (\"items\", \"products\", \"results\", \"data\"):\n",
        "        if key in data and isinstance(data[key], list):\n",
        "            rows = data[key]\n",
        "            break\n",
        "    else:\n",
        "        rows = [data]  \n",
        "else:\n",
        "    rows = [data]\n",
        "\n",
        "# If rows contains dicts, flatten; otherwise, wrap as a single column\n",
        "if rows and isinstance(rows[0], dict):\n",
        "    df_10 = pd.json_normalize(rows, sep='.')\n",
        "else:\n",
        "    df_10 = pd.DataFrame({\"value\": rows})"
      ]
    },
    {
      "cell_type": "code",
      "execution_count": null,
      "metadata": {
        "colab": {
          "background_save": true
        },
        "id": "8nvB3FMlyA0z"
      },
      "outputs": [],
      "source": [
        "# Check data form\n",
        "df_10.shape"
      ]
    },
    {
      "cell_type": "markdown",
      "metadata": {
        "id": "AFBFPLT1yLH9"
      },
      "source": [
        "---\n",
        "\n",
        "### **Keyword: Sunscreen**\n",
        "\n",
        "---"
      ]
    },
    {
      "cell_type": "code",
      "execution_count": null,
      "metadata": {
        "colab": {
          "background_save": true
        },
        "id": "q_aqWM2jyLrz"
      },
      "outputs": [],
      "source": [
        "# Scrapping data\n",
        "results = search(\"sunscreen\", max_result=500, debug=True)\n",
        "results.enrich_details(debug=True)\n",
        "results.enrich_reviews(max_result=500, debug=True)\n",
        "\n",
        "# Check data\n",
        "with open('log.json','w') as f:\n",
        "    f.write(json.dumps(results.json(), indent=4))\n",
        "print(results.json())"
      ]
    },
    {
      "cell_type": "code",
      "execution_count": null,
      "metadata": {
        "colab": {
          "background_save": true
        },
        "id": "ZC_NXeZUyM9D"
      },
      "outputs": [],
      "source": [
        "# Define data\n",
        "data = results.json()  \n",
        "\n",
        "# Safely define rows\n",
        "if isinstance(data, list):\n",
        "    rows = data\n",
        "elif isinstance(data, dict):\n",
        "    # Try to get a common candidate list; if none exists, use the dict itself\n",
        "    for key in (\"items\", \"products\", \"results\", \"data\"):\n",
        "        if key in data and isinstance(data[key], list):\n",
        "            rows = data[key]\n",
        "            break\n",
        "    else:\n",
        "        rows = [data]  \n",
        "else:\n",
        "    rows = [data]\n",
        "\n",
        "# If rows contains dicts, flatten; otherwise, wrap as a single column\n",
        "if rows and isinstance(rows[0], dict):\n",
        "    df_11 = pd.json_normalize(rows, sep='.')\n",
        "else:\n",
        "    df_11 = pd.DataFrame({\"value\": rows})"
      ]
    },
    {
      "cell_type": "code",
      "execution_count": null,
      "metadata": {
        "colab": {
          "background_save": true
        },
        "id": "-IjBVLLtyNxa"
      },
      "outputs": [],
      "source": [
        "# Check data form\n",
        "df_11.shape"
      ]
    },
    {
      "cell_type": "markdown",
      "metadata": {
        "id": "6ChTU4LnyUsP"
      },
      "source": [
        "---\n",
        "\n",
        "### **Keyword: Face mask**\n",
        "\n",
        "---"
      ]
    },
    {
      "cell_type": "code",
      "execution_count": null,
      "metadata": {
        "colab": {
          "background_save": true
        },
        "id": "qp-HHqh_yVFR"
      },
      "outputs": [],
      "source": [
        "# Scrapping data\n",
        "results = search(\"face mask\", max_result=500, debug=True)\n",
        "results.enrich_details(debug=True)\n",
        "results.enrich_reviews(max_result=500, debug=True)\n",
        "\n",
        "# Check data\n",
        "with open('log.json','w') as f:\n",
        "    f.write(json.dumps(results.json(), indent=4))\n",
        "print(results.json())"
      ]
    },
    {
      "cell_type": "code",
      "execution_count": null,
      "metadata": {
        "colab": {
          "background_save": true
        },
        "id": "F93k4HhSyWbi"
      },
      "outputs": [],
      "source": [
        "# Define data\n",
        "data = results.json()  \n",
        "\n",
        "# Safely define rows\n",
        "if isinstance(data, list):\n",
        "    rows = data\n",
        "elif isinstance(data, dict):\n",
        "    # Try to get a common candidate list; if none exists, use the dict itself\n",
        "    for key in (\"items\", \"products\", \"results\", \"data\"):\n",
        "        if key in data and isinstance(data[key], list):\n",
        "            rows = data[key]\n",
        "            break\n",
        "    else:\n",
        "        rows = [data]  \n",
        "else:\n",
        "    rows = [data]\n",
        "\n",
        "# If rows contains dicts, flatten; otherwise, wrap as a single column\n",
        "if rows and isinstance(rows[0], dict):\n",
        "    df_12 = pd.json_normalize(rows, sep='.')\n",
        "else:\n",
        "    df_12 = pd.DataFrame({\"value\": rows})"
      ]
    },
    {
      "cell_type": "code",
      "execution_count": null,
      "metadata": {
        "colab": {
          "background_save": true
        },
        "id": "pfJHBoiMyXaW"
      },
      "outputs": [],
      "source": [
        "# Check data form\n",
        "df_12.shape"
      ]
    },
    {
      "cell_type": "markdown",
      "metadata": {
        "id": "YNB62jlqyd_x"
      },
      "source": [
        "---\n",
        "\n",
        "### **Keyword: Exfoliator**\n",
        "\n",
        "---"
      ]
    },
    {
      "cell_type": "code",
      "execution_count": null,
      "metadata": {
        "colab": {
          "background_save": true
        },
        "id": "fmwiWchmyekn"
      },
      "outputs": [],
      "source": [
        "# Scrapping data\n",
        "results = search(\"exfoliator\", max_result=500, debug=True)\n",
        "results.enrich_details(debug=True)\n",
        "results.enrich_reviews(max_result=500, debug=True)\n",
        "\n",
        "# Safely define rows\n",
        "with open('log.json','w') as f:\n",
        "    f.write(json.dumps(results.json(), indent=4))\n",
        "print(results.json())"
      ]
    },
    {
      "cell_type": "code",
      "execution_count": null,
      "metadata": {
        "colab": {
          "background_save": true
        },
        "id": "3w0K0zZsyjTY"
      },
      "outputs": [],
      "source": [
        "# Define data\n",
        "data = results.json()  \n",
        "\n",
        "# Safely define rows\n",
        "if isinstance(data, list):\n",
        "    rows = data\n",
        "elif isinstance(data, dict):\n",
        "    # Try to get a common candidate list; if none exists, use the dict itself\n",
        "    for key in (\"items\", \"products\", \"results\", \"data\"):\n",
        "        if key in data and isinstance(data[key], list):\n",
        "            rows = data[key]\n",
        "            break\n",
        "    else:\n",
        "        rows = [data]  \n",
        "else:\n",
        "    rows = [data]\n",
        "\n",
        "# If rows contains dicts, flatten; otherwise, wrap as a single column\n",
        "if rows and isinstance(rows[0], dict):\n",
        "    df_13 = pd.json_normalize(rows, sep='.')\n",
        "else:\n",
        "    df_13 = pd.DataFrame({\"value\": rows})"
      ]
    },
    {
      "cell_type": "code",
      "execution_count": null,
      "metadata": {
        "colab": {
          "background_save": true
        },
        "id": "l44OSJCFykHK"
      },
      "outputs": [],
      "source": [
        "# Check data form\n",
        "df_13.shape"
      ]
    },
    {
      "cell_type": "markdown",
      "metadata": {
        "id": "KbpQ8M5iynnp"
      },
      "source": [
        "---\n",
        "\n",
        "### **Keyword: Body lotion**\n",
        "\n",
        "---"
      ]
    },
    {
      "cell_type": "code",
      "execution_count": null,
      "metadata": {
        "colab": {
          "background_save": true
        },
        "id": "ViTjzFpxyoO2"
      },
      "outputs": [],
      "source": [
        "# Scrapping data\n",
        "results = search(\"body lotion\", max_result=500, debug=True)\n",
        "results.enrich_details(debug=True)\n",
        "results.enrich_reviews(max_result=500, debug=True)\n",
        "\n",
        "# Safely define rows\n",
        "with open('log.json','w') as f:\n",
        "    f.write(json.dumps(results.json(), indent=4))\n",
        "print(results.json())"
      ]
    },
    {
      "cell_type": "code",
      "execution_count": null,
      "metadata": {
        "colab": {
          "background_save": true
        },
        "id": "-1sQf1XyysP5"
      },
      "outputs": [],
      "source": [
        "# Define data\n",
        "data = results.json()  \n",
        "\n",
        "# Safely define rows\n",
        "if isinstance(data, list):\n",
        "    rows = data\n",
        "elif isinstance(data, dict):\n",
        "    # Try to get a common candidate list; if none exists, use the dict itself\n",
        "    for key in (\"items\", \"products\", \"results\", \"data\"):\n",
        "        if key in data and isinstance(data[key], list):\n",
        "            rows = data[key]\n",
        "            break\n",
        "    else:\n",
        "        rows = [data]  \n",
        "else:\n",
        "    rows = [data]\n",
        "\n",
        "# If rows contains dicts, flatten; otherwise, wrap as a single column\n",
        "if rows and isinstance(rows[0], dict):\n",
        "    df_14 = pd.json_normalize(rows, sep='.')\n",
        "else:\n",
        "    df_14 = pd.DataFrame({\"value\": rows})"
      ]
    },
    {
      "cell_type": "code",
      "execution_count": null,
      "metadata": {
        "colab": {
          "background_save": true
        },
        "id": "OL7cUSs1ytHL"
      },
      "outputs": [],
      "source": [
        "# Check data form\n",
        "df_14.shape"
      ]
    },
    {
      "cell_type": "markdown",
      "metadata": {
        "id": "4QHSPBYJy6UJ"
      },
      "source": [
        "---\n",
        "\n",
        "### **Keyword: Lipcare**\n",
        "\n",
        "---"
      ]
    },
    {
      "cell_type": "code",
      "execution_count": null,
      "metadata": {
        "colab": {
          "background_save": true
        },
        "id": "ZdiTMmW_y67X"
      },
      "outputs": [],
      "source": [
        "# Scrapping data\n",
        "results = search(\"lip care\", max_result=500, debug=True)\n",
        "results.enrich_details(debug=True)\n",
        "results.enrich_reviews(max_result=500, debug=True)\n",
        "\n",
        "# Safely define rows\n",
        "with open('log.json','w') as f:\n",
        "    f.write(json.dumps(results.json(), indent=4))\n",
        "print(results.json())"
      ]
    },
    {
      "cell_type": "code",
      "execution_count": null,
      "metadata": {
        "colab": {
          "background_save": true
        },
        "id": "2xmyIuciy--T"
      },
      "outputs": [],
      "source": [
        "# Define data\n",
        "data = results.json()  \n",
        "\n",
        "# Safely define rows\n",
        "if isinstance(data, list):\n",
        "    rows = data\n",
        "elif isinstance(data, dict):\n",
        "    # Try to get a common candidate list; if none exists, use the dict itself\n",
        "    for key in (\"items\", \"products\", \"results\", \"data\"):\n",
        "        if key in data and isinstance(data[key], list):\n",
        "            rows = data[key]\n",
        "            break\n",
        "    else:\n",
        "        rows = [data]  \n",
        "else:\n",
        "    rows = [data]\n",
        "\n",
        "# If rows contains dicts, flatten; otherwise, wrap as a single column\n",
        "if rows and isinstance(rows[0], dict):\n",
        "    df_15 = pd.json_normalize(rows, sep='.')\n",
        "else:\n",
        "    df_15 = pd.DataFrame({\"value\": rows})"
      ]
    },
    {
      "cell_type": "code",
      "execution_count": null,
      "metadata": {
        "colab": {
          "background_save": true
        },
        "id": "HWGOyPJdzAYE"
      },
      "outputs": [],
      "source": [
        "# Check data form\n",
        "df_15.shape"
      ]
    },
    {
      "cell_type": "markdown",
      "metadata": {
        "id": "YMbJF6qx0GZE"
      },
      "source": [
        "---\n",
        "\n",
        "## **Combine Data**\n",
        "\n",
        "---"
      ]
    },
    {
      "cell_type": "code",
      "execution_count": null,
      "metadata": {
        "colab": {
          "background_save": true
        },
        "id": "B9Js_pxv0Hcv"
      },
      "outputs": [],
      "source": [
        "# collect them all: df, df_1..df_15\n",
        "names = ['df'] + [f'df_{i}' for i in range(1, 16)]\n",
        "dfs = [globals()[n] for n in names]  # asumsi semua ada\n",
        "\n",
        "# Merge rows\n",
        "df_all = pd.concat(dfs, ignore_index=True)\n"
      ]
    },
    {
      "cell_type": "markdown",
      "metadata": {},
      "source": [
        "---"
      ]
    }
  ],
  "metadata": {
    "colab": {
      "provenance": []
    },
    "kernelspec": {
      "display_name": "Python 3",
      "name": "python3"
    },
    "language_info": {
      "name": "python"
    }
  },
  "nbformat": 4,
  "nbformat_minor": 0
}
