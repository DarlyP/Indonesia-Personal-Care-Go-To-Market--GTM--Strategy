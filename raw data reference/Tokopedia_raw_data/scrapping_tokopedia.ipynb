{
 "cells": [
  {
   "cell_type": "markdown",
   "id": "25aaa7b9",
   "metadata": {},
   "source": [
    "# **Crawling Skincare Data From Tokopedia**\n",
    "\n",
    "---"
   ]
  },
  {
   "cell_type": "markdown",
   "id": "dc746377",
   "metadata": {},
   "source": [
    "## **Import Library**\n",
    "\n",
    "---"
   ]
  },
  {
   "cell_type": "code",
   "execution_count": 1,
   "id": "9b6fc354",
   "metadata": {},
   "outputs": [],
   "source": [
    "from selenium import webdriver\n",
    "from selenium.webdriver.common.by import By\n",
    "from selenium.webdriver.support.ui import WebDriverWait\n",
    "from selenium.webdriver.support import expected_conditions as EC\n",
    "from selenium.common.exceptions import TimeoutException\n",
    "from bs4 import BeautifulSoup\n",
    "import time\n",
    "import pandas as pd"
   ]
  },
  {
   "cell_type": "markdown",
   "id": "fc6abbb5",
   "metadata": {},
   "source": [
    "---\n",
    "\n",
    "## **Testing webdriver and URL**\n",
    "\n",
    "---"
   ]
  },
  {
   "cell_type": "code",
   "execution_count": null,
   "id": "90e3af13",
   "metadata": {},
   "outputs": [
    {
     "name": "stderr",
     "output_type": "stream",
     "text": [
      "Exception managing MicrosoftEdge: error sending request for url (https://msedgedriver.azureedge.net/LATEST_RELEASE_138_WINDOWS): error trying to connect: dns error: No such host is known. (os error 11001)\n"
     ]
    }
   ],
   "source": [
    "# Initialize the Edge WebDriver\n",
    "driver = webdriver.Edge()\n",
    "\n",
    "# URL test\n",
    "# url = \"https://www.tokopedia.com/search?st=&q=skincare&srp_component_id=02.01.00.00&srp_page_id=&srp_page_title=&navsource=\"\n",
    "\n",
    "# Access driver to the URL\n",
    "# driver.get(url)"
   ]
  },
  {
   "cell_type": "code",
   "execution_count": null,
   "id": "f4c52d28",
   "metadata": {},
   "outputs": [],
   "source": [
    "# Make columns for the DataFrame\n",
    "product_name = []\n",
    "price = []\n",
    "COD_available = []\n",
    "rating = []\n",
    "sales = []\n",
    "store_name = []\n",
    "location = []"
   ]
  },
  {
   "cell_type": "code",
   "execution_count": null,
   "id": "d32c8a66",
   "metadata": {},
   "outputs": [],
   "source": [
    "# Page access loop\n",
    "for no_halaman in range(1,51):\n",
    "    url = f'https://www.tokopedia.com/find/skincare?page={no_halaman}'\n",
    "\n",
    "    # Page access with url\n",
    "    driver.get(url)\n",
    "    \n",
    "    # Time method to wait for the page to load\n",
    "    time.sleep(10)\n",
    "    \n",
    "    # Get the page source and parse it with BeautifulSoup\n",
    "    html = driver.page_source\n",
    "    soup = BeautifulSoup(html, 'html.parser')\n",
    "\n",
    "    # Find all product squares\n",
    "    squares = soup.find_all('a', {'class' :\"Ui5-B4CDAk4Cv-cjLm4o0g== XeGJAOdlJaxl4+UD3zEJLg==\"})\n",
    "\n",
    "    for box in squares:\n",
    "        \n",
    "        # Take the product name\n",
    "        try:\n",
    "            product_element = box.find('div', {'class' : 'SzILjt4fxHUFNVT48ZPhHA=='})\n",
    "            product_name.append(product_element.get_text())\n",
    "        except:\n",
    "            product_name.append(None)\n",
    "        \n",
    "        # Take the product price\n",
    "        try:\n",
    "            price_element = box.find('div', {'class' : 'urMOIDHH7I0Iy1Dv2oFaNw=='})\n",
    "            price.append(price_element.get_text())\n",
    "        except:\n",
    "            price.append(None)\n",
    "        \n",
    "        # Take the COD availability \n",
    "        try:\n",
    "            cod_element = box.find('span', {'class' : 'HCDPz5z44v-6ZX0vHDLMwQ=='})\n",
    "            COD_available.append(cod_element.get_text())\n",
    "        except:\n",
    "            COD_available.append(None)\n",
    "\n",
    "        # Take product rating\n",
    "        try:\n",
    "            element_rating = box.find('span', {'class' : '_2NfJxPu4JC-55aCJ8bEsyw=='})\n",
    "            rating.append(element_rating.get_text())\n",
    "        except:\n",
    "            rating.append(None)\n",
    "        \n",
    "        # Take sales information\n",
    "        try:\n",
    "            sales_element = box.find('span', {'class' : 'u6SfjDD2WiBlNW7zHmzRhQ=='})\n",
    "            sales.append(sales_element.get_text())\n",
    "        except:\n",
    "            sales.append(None)\n",
    "        \n",
    "        # Take store name\n",
    "        try:\n",
    "            store_element = box.find('span', {'class' : 'si3CNdiG8AR0EaXvf6bFbQ== gxi+fsEljOjqhjSKqjE+sw== flip'})\n",
    "            store_name.append(store_element.get_text())\n",
    "        except:\n",
    "            store_name.append(None)\n",
    "        \n",
    "        # Take store city\n",
    "        try:\n",
    "            store_city_element = box.find('span', {'class' : 'gxi+fsEljOjqhjSKqjE+sw== flip'})\n",
    "            location.append(store_city_element.get_text())\n",
    "        except:\n",
    "            location.append(None)"
   ]
  },
  {
   "cell_type": "code",
   "execution_count": null,
   "id": "a98db4b4",
   "metadata": {},
   "outputs": [
    {
     "data": {
      "text/html": [
       "<div>\n",
       "<style scoped>\n",
       "    .dataframe tbody tr th:only-of-type {\n",
       "        vertical-align: middle;\n",
       "    }\n",
       "\n",
       "    .dataframe tbody tr th {\n",
       "        vertical-align: top;\n",
       "    }\n",
       "\n",
       "    .dataframe thead th {\n",
       "        text-align: right;\n",
       "    }\n",
       "</style>\n",
       "<table border=\"1\" class=\"dataframe\">\n",
       "  <thead>\n",
       "    <tr style=\"text-align: right;\">\n",
       "      <th></th>\n",
       "      <th>Nama Produk</th>\n",
       "      <th>Harga Produk</th>\n",
       "      <th>COD Tersedia</th>\n",
       "      <th>Rating Produk</th>\n",
       "      <th>Banyaknya Terjual</th>\n",
       "      <th>Nama Toko</th>\n",
       "      <th>Kota Toko</th>\n",
       "    </tr>\n",
       "  </thead>\n",
       "  <tbody>\n",
       "    <tr>\n",
       "      <th>0</th>\n",
       "      <td>Wadah Bulat Transparan Serbaguna / Tempat Krim...</td>\n",
       "      <td>Rp4.000</td>\n",
       "      <td>Bisa COD</td>\n",
       "      <td>5.0</td>\n",
       "      <td>8 terjual</td>\n",
       "      <td>SewingWorld</td>\n",
       "      <td>Jakarta Barat</td>\n",
       "    </tr>\n",
       "    <tr>\n",
       "      <th>1</th>\n",
       "      <td>Moell Paket Perawatan New Born Baby Skincare P...</td>\n",
       "      <td>Rp135.000</td>\n",
       "      <td>None</td>\n",
       "      <td>4.9</td>\n",
       "      <td>100+ terjual</td>\n",
       "      <td>Mamimimo</td>\n",
       "      <td>Kab. Bandung</td>\n",
       "    </tr>\n",
       "    <tr>\n",
       "      <th>2</th>\n",
       "      <td>Niacinamide atau Vitamin B3 bahan Skincare 10gr</td>\n",
       "      <td>Rp5.499</td>\n",
       "      <td>Bisa COD</td>\n",
       "      <td>4.9</td>\n",
       "      <td>80+ terjual</td>\n",
       "      <td>KIMIA MARKET OFFICIAL</td>\n",
       "      <td>Bandung</td>\n",
       "    </tr>\n",
       "    <tr>\n",
       "      <th>3</th>\n",
       "      <td>JOHNSON'S Milk + Rice Baby Lotion 500ml - Losi...</td>\n",
       "      <td>Rp88.509</td>\n",
       "      <td>Bisa COD</td>\n",
       "      <td>4.9</td>\n",
       "      <td>3rb+ terjual</td>\n",
       "      <td>Johnson's Baby ID</td>\n",
       "      <td>Jakarta Timur</td>\n",
       "    </tr>\n",
       "    <tr>\n",
       "      <th>4</th>\n",
       "      <td>Natur-E Skincare &amp; Soft Capsule 32s &amp; 16s - Sk...</td>\n",
       "      <td>Rp125.000</td>\n",
       "      <td>Bisa COD</td>\n",
       "      <td>4.9</td>\n",
       "      <td>500+ terjual</td>\n",
       "      <td>NMR-EFFORT</td>\n",
       "      <td>Tangerang Selatan</td>\n",
       "    </tr>\n",
       "  </tbody>\n",
       "</table>\n",
       "</div>"
      ],
      "text/plain": [
       "                                         Nama Produk Harga Produk  \\\n",
       "0  Wadah Bulat Transparan Serbaguna / Tempat Krim...      Rp4.000   \n",
       "1  Moell Paket Perawatan New Born Baby Skincare P...    Rp135.000   \n",
       "2    Niacinamide atau Vitamin B3 bahan Skincare 10gr      Rp5.499   \n",
       "3  JOHNSON'S Milk + Rice Baby Lotion 500ml - Losi...     Rp88.509   \n",
       "4  Natur-E Skincare & Soft Capsule 32s & 16s - Sk...    Rp125.000   \n",
       "\n",
       "  COD Tersedia Rating Produk Banyaknya Terjual              Nama Toko  \\\n",
       "0     Bisa COD           5.0         8 terjual            SewingWorld   \n",
       "1         None           4.9      100+ terjual               Mamimimo   \n",
       "2     Bisa COD           4.9       80+ terjual  KIMIA MARKET OFFICIAL   \n",
       "3     Bisa COD           4.9      3rb+ terjual      Johnson's Baby ID   \n",
       "4     Bisa COD           4.9      500+ terjual             NMR-EFFORT   \n",
       "\n",
       "           Kota Toko  \n",
       "0      Jakarta Barat  \n",
       "1       Kab. Bandung  \n",
       "2            Bandung  \n",
       "3      Jakarta Timur  \n",
       "4  Tangerang Selatan  "
      ]
     },
     "execution_count": 6,
     "metadata": {},
     "output_type": "execute_result"
    }
   ],
   "source": [
    "# Make dataframe\n",
    "data = pd.DataFrame()\n",
    "\n",
    "# Input data\n",
    "data[\"Product Name\"] = product_name\n",
    "data[\"Price\"] = price\n",
    "data[\"COD Available\"] = COD_available\n",
    "data[\"Product Rating\"] = rating\n",
    "data[\"Sales\"] = sales\n",
    "data[\"Store Name\"] = store_name\n",
    "data[\"Store Location\"] = location\n",
    "\n",
    "# Display dataframe head\n",
    "data.head()"
   ]
  },
  {
   "cell_type": "code",
   "execution_count": null,
   "id": "a67f1ae1",
   "metadata": {},
   "outputs": [
    {
     "name": "stdout",
     "output_type": "stream",
     "text": [
      "<class 'pandas.core.frame.DataFrame'>\n",
      "RangeIndex: 550 entries, 0 to 549\n",
      "Data columns (total 7 columns):\n",
      " #   Column             Non-Null Count  Dtype \n",
      "---  ------             --------------  ----- \n",
      " 0   Nama Produk        550 non-null    object\n",
      " 1   Harga Produk       550 non-null    object\n",
      " 2   COD Tersedia       464 non-null    object\n",
      " 3   Rating Produk      431 non-null    object\n",
      " 4   Banyaknya Terjual  463 non-null    object\n",
      " 5   Nama Toko          550 non-null    object\n",
      " 6   Kota Toko          550 non-null    object\n",
      "dtypes: object(7)\n",
      "memory usage: 30.2+ KB\n"
     ]
    }
   ],
   "source": [
    "# Display dataFrame information\n",
    "data.info()"
   ]
  },
  {
   "cell_type": "code",
   "execution_count": null,
   "id": "02b4e0bc",
   "metadata": {},
   "outputs": [],
   "source": [
    "# Save the DataFrame to a CSV file\n",
    "data.to_csv('data.csv', index=False)"
   ]
  },
  {
   "cell_type": "markdown",
   "id": "79ae8c43",
   "metadata": {},
   "source": [
    "---"
   ]
  }
 ],
 "metadata": {
  "kernelspec": {
   "display_name": "Python 3",
   "language": "python",
   "name": "python3"
  },
  "language_info": {
   "codemirror_mode": {
    "name": "ipython",
    "version": 3
   },
   "file_extension": ".py",
   "mimetype": "text/x-python",
   "name": "python",
   "nbconvert_exporter": "python",
   "pygments_lexer": "ipython3",
   "version": "3.9.2rc1"
  }
 },
 "nbformat": 4,
 "nbformat_minor": 5
}
